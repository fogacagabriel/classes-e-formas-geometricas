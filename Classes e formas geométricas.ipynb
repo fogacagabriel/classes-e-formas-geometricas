{
  "nbformat": 4,
  "nbformat_minor": 0,
  "metadata": {
    "colab": {
      "name": "Untitled20.ipynb",
      "provenance": [],
      "toc_visible": true
    },
    "kernelspec": {
      "name": "python3",
      "display_name": "Python 3"
    },
    "language_info": {
      "name": "python"
    }
  },
  "cells": [
    {
      "cell_type": "code",
      "metadata": {
        "id": "2bOtIp5iIUzJ"
      },
      "source": [
        "#Exercício prático com classes em Python, explorando figuras geométricas e matplotlib\n",
        "import matplotlib.pyplot as plt\n",
        "%matplotlib inline"
      ],
      "execution_count": 5,
      "outputs": []
    },
    {
      "cell_type": "code",
      "metadata": {
        "id": "p_H8bg7EId8s"
      },
      "source": [
        "class Circle(object):\n",
        "  def __init__(self, radius=3, color='blue'):\n",
        "    self.radius = radius\n",
        "    self.color = color\n",
        "\n",
        "  def add_radius(self, r):\n",
        "    self.radius = self.radius + r\n",
        "    return(self.radius)\n",
        "\n",
        "  def DrawCircle(self):\n",
        "    plt.gca().add_patch(plt.Circle((0,0), radius=self.radius, fc=self.color))\n",
        "    plt.axis('scaled')\n",
        "    plt.show()"
      ],
      "execution_count": 2,
      "outputs": []
    },
    {
      "cell_type": "code",
      "metadata": {
        "id": "AjiDv1K9JpM-"
      },
      "source": [
        "RedCircle = Circle(10, 'red')"
      ],
      "execution_count": 3,
      "outputs": []
    },
    {
      "cell_type": "code",
      "metadata": {
        "colab": {
          "base_uri": "https://localhost:8080/",
          "height": 265
        },
        "id": "eF7nFt67JvRV",
        "outputId": "5a9ea1e6-fbcf-435b-dc49-15b2f0be9f85"
      },
      "source": [
        "RedCircle.DrawCircle()"
      ],
      "execution_count": 4,
      "outputs": [
        {
          "output_type": "display_data",
          "data": {
            "image/png": "[encoded data removed]",
            "text/plain": [
              "<Figure size 432x288 with 1 Axes>"
            ]
          },
          "metadata": {
            "tags": [],
            "needs_background": "light"
          }
        }
      ]
    },
    {
      "cell_type": "code",
      "metadata": {
        "id": "VNWjiIg_Kovn"
      },
      "source": [
        "BlueCircle = Circle(20, 'blue')"
      ],
      "execution_count": 6,
      "outputs": []
    },
    {
      "cell_type": "code",
      "metadata": {
        "colab": {
          "base_uri": "https://localhost:8080/",
          "height": 265
        },
        "id": "RPAvVoKSKueu",
        "outputId": "0969a02a-781b-4a6a-b05a-ab9f2181d785"
      },
      "source": [
        "BlueCircle.DrawCircle()"
      ],
      "execution_count": 7,
      "outputs": [
        {
          "output_type": "display_data",
          "data": {
            "image/png": "[encoded data removed]",
            "text/plain": [
              "<Figure size 432x288 with 1 Axes>"
            ]
          },
          "metadata": {
            "tags": [],
            "needs_background": "light"
          }
        }
      ]
    },
    {
      "cell_type": "code",
      "metadata": {
        "id": "9gEFLhd6J2uq"
      },
      "source": [
        "class Rectangle(object):\n",
        "  def __init__(self, width=2, height=3, color='r'):\n",
        "    self.height=height\n",
        "    self.width=width\n",
        "    self.color=color \n",
        "\n",
        "  def drawRectangle(self):\n",
        "    plt.gca().add_patch(plt.Rectangle((0,0), self.width, self.height, fc=self.color))\n",
        "    plt.axis('scaled')\n",
        "    plt.show()\n"
      ],
      "execution_count": 8,
      "outputs": []
    },
    {
      "cell_type": "code",
      "metadata": {
        "colab": {
          "base_uri": "https://localhost:8080/",
          "height": 265
        },
        "id": "gpZfYYjoMQm4",
        "outputId": "98932716-e593-43a3-f01c-215936cface3"
      },
      "source": [
        "BlueRectangle = Rectangle(2, 5, 'blue')\n",
        "BlueRectangle.drawRectangle()"
      ],
      "execution_count": 13,
      "outputs": [
        {
          "output_type": "display_data",
          "data": {
            "image/png": "[encoded data removed]",
            "text/plain": [
              "<Figure size 432x288 with 1 Axes>"
            ]
          },
          "metadata": {
            "tags": [],
            "needs_background": "light"
          }
        }
      ]
    },
    {
      "cell_type": "code",
      "metadata": {
        "colab": {
          "base_uri": "https://localhost:8080/",
          "height": 265
        },
        "id": "2THiZ-4QMmQ0",
        "outputId": "99a31574-7736-46bf-91bf-92ed1c63c3dc"
      },
      "source": [
        "RedRectangle = Rectangle(5, 10, 'red')\n",
        "RedRectangle.drawRectangle()"
      ],
      "execution_count": 14,
      "outputs": [
        {
          "output_type": "display_data",
          "data": {
            "image/png": "[encoded data removed]",
            "text/plain": [
              "<Figure size 432x288 with 1 Axes>"
            ]
          },
          "metadata": {
            "tags": [],
            "needs_background": "light"
          }
        }
      ]
    },
    {
      "cell_type": "code",
      "metadata": {
        "id": "T51OVMlIM_FX"
      },
      "source": [
        ""
      ],
      "execution_count": null,
      "outputs": []
    }
  ]
}